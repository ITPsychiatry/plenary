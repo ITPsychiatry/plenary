{
 "cells": [
  {
   "cell_type": "code",
   "execution_count": 1,
   "metadata": {},
   "outputs": [],
   "source": [
    "import pandas as pd\n",
    "import numpy as np\n",
    "import tensorflow as tf\n",
    "from xgboost import XGBClassifier\n",
    "from sklearn import preprocessing\n",
    "import joblib\n",
    "from sklearn.metrics import confusion_matrix, classification_report\n",
    "import matplotlib.pyplot as plt\n",
    "import skfuzzy as fuzz\n",
    "import seaborn as sns\n",
    "import plotly as py\n",
    "import plotly.graph_objs as go\n",
    "import os\n",
    "from copy import deepcopy\n",
    "import warnings\n",
    "import ls_functions as lsf\n",
    "import shap\n",
    "import scipy.stats as stats\n",
    "\n"
   ]
  },
  {
   "cell_type": "markdown",
   "metadata": {},
   "source": [
    "# DATASET"
   ]
  },
  {
   "cell_type": "code",
   "execution_count": 2,
   "metadata": {},
   "outputs": [],
   "source": [
    "\n",
    "dataStreamPath = os.getcwd() + \"\\\\\"\n",
    "graphsStreamPath= os.getcwd() + \"\\\\graphs\\\\\"\n",
    "shapvaluesStreamPath= os.getcwd() + \"\\\\shapvalues\\\\\"\n",
    "oneheadmodelsStreamPath= os.getcwd() + \"\\\\onehead_models\\\\\"\n",
    "baselinemodelsStreamPath= os.getcwd() + \"\\\\baseline_models\\\\\"\n",
    "protoformsStreamPath= os.getcwd() + \"\\\\protoforms_github\\\\\"\n",
    "new_shapvalues = os.getcwd() + \"\\\\new_shapvalues\\\\\""
   ]
  },
  {
   "cell_type": "code",
   "execution_count": 3,
   "metadata": {},
   "outputs": [
    {
     "data": {
      "text/plain": [
       "'c:\\\\Users\\\\PRECISION 7X10\\\\Documents\\\\GitHub\\\\plenary\\\\protoforms_github\\\\'"
      ]
     },
     "execution_count": 3,
     "metadata": {},
     "output_type": "execute_result"
    }
   ],
   "source": [
    "protoformsStreamPath"
   ]
  },
  {
   "cell_type": "code",
   "execution_count": 4,
   "metadata": {},
   "outputs": [],
   "source": [
    "file_info = [\n",
    "    (\"data_shap_base\", \"data_shap_baseline.csv\"),\n",
    "    (\"shap_values_0_class_base\", \"shap_values_class_0_baseline_states.csv\"),\n",
    "    (\"shap_values_1_class_base\", \"shap_values_class_1_baseline_states.csv\"),\n",
    "    (\"shap_values_2_class_base\", \"shap_values_class_2_baseline_states.csv\"),\n",
    "    (\"shap_values_3_class_base\", \"shap_values_class_3_baseline_states.csv\"),\n",
    "    (\"data_shap_oh\", \"data_shap_onehead.csv\"),\n",
    "    (\"shap_values_0_class_oh\", \"shap_values_class_0_onehead_states.csv\"),\n",
    "    (\"shap_values_1_class_oh\", \"shap_values_class_1_onehead_states.csv\"),\n",
    "    (\"shap_values_2_class_oh\", \"shap_values_class_2_onehead_states.csv\"),\n",
    "    (\"shap_values_3_class_oh\", \"shap_values_class_3_onehead_states.csv\"),\n",
    "    (\"shap_values_0_symptom_oh\", \"shap_values_class_0_onehead_symptoms.csv\"),\n",
    "    (\"shap_values_1_symptom_oh\", \"shap_values_class_1_onehead_symptoms.csv\"),\n",
    "    (\"shap_values_2_symptom_oh\", \"shap_values_class_2_onehead_symptoms.csv\"),\n",
    "    (\"shap_values_3_symptom_oh\", \"shap_values_class_3_onehead_symptoms.csv\"),\n",
    "    (\"shap_values_4_symptom_oh\", \"shap_values_class_4_onehead_symptoms.csv\"),\n",
    "    (\"shap_values_5_symptom_oh\", \"shap_values_class_5_onehead_symptoms.csv\"),\n",
    "    (\"shap_values_6_symptom_oh\", \"shap_values_class_6_onehead_symptoms.csv\"),\n",
    "    (\"shap_values_7_symptom_oh\", \"shap_values_class_7_onehead_symptoms.csv\"),\n",
    "    (\"shap_values_8_symptom_oh\", \"shap_values_class_8_onehead_symptoms.csv\"),\n",
    "    (\"shap_values_9_symptom_oh\", \"shap_values_class_9_onehead_symptoms.csv\")\n",
    "]\n",
    "\n",
    "# Loop through the list and read each file into a DataFrame with the correct name\n",
    "for var_name, file_name in file_info:\n",
    "    file_path = new_shapvalues + file_name\n",
    "    globals()[var_name] = pd.read_csv(file_path)"
   ]
  },
  {
   "cell_type": "markdown",
   "metadata": {},
   "source": [
    "## Groups of variables"
   ]
  },
  {
   "cell_type": "code",
   "execution_count": 5,
   "metadata": {},
   "outputs": [],
   "source": [
    "#group of energy related variables \n",
    "acoustic_group_energy_label='energy'\n",
    "acoustic_group_energy=['pcm_LOGenergy_sma',\n",
    "'pcm_fftMag_fband0-250_sma',\n",
    "'pcm_fftMag_fband0-650_sma',\n",
    "'audspec_lengthl1norm_sma',\n",
    "'audspecrasta_lengthl1norm_sma',\n",
    "'pcm_rmsenergy_sma',\n",
    "'audSpec_Rfilt_sma_compare_0_',\n",
    "'audSpec_Rfilt_sma_compare_1_',\n",
    "'audSpec_Rfilt_sma_compare_2_',\n",
    "'audSpec_Rfilt_sma_compare_3_',\n",
    "'audSpec_Rfilt_sma_compare_4_',\n",
    "'audSpec_Rfilt_sma_compare_5_',\n",
    "'audSpec_Rfilt_sma_compare_6_',\n",
    "'audSpec_Rfilt_sma_compare_7_',\n",
    "'audSpec_Rfilt_sma_compare_8_',\n",
    "'audSpec_Rfilt_sma_compare_9_',\n",
    "'audSpec_Rfilt_sma_compare_10_',\n",
    "'audSpec_Rfilt_sma_compare_11_',\n",
    "'audSpec_Rfilt_sma_compare_12_',\n",
    "'audSpec_Rfilt_sma_compare_13_',\n",
    "'audSpec_Rfilt_sma_compare_14_',\n",
    "'audSpec_Rfilt_sma_compare_15_',\n",
    "'audSpec_Rfilt_sma_compare_16_',\n",
    "'audSpec_Rfilt_sma_compare_17_',\n",
    "'audSpec_Rfilt_sma_compare_18_',\n",
    "'audSpec_Rfilt_sma_compare_19_',\n",
    "'audSpec_Rfilt_sma_compare_20_',\n",
    "'audSpec_Rfilt_sma_compare_21_',\n",
    "'audSpec_Rfilt_sma_compare_22_',\n",
    "'audSpec_Rfilt_sma_compare_23_',\n",
    "'audSpec_Rfilt_sma_compare_24_',\n",
    "'audSpec_Rfilt_sma_compare_25_',\n",
    "'pcm_fftMag_fband250-650_sma_compare',\n",
    "'pcm_fftMag_fband1000-4000_sma_compare',\n",
    "'loudness_sma3']"
   ]
  },
  {
   "cell_type": "code",
   "execution_count": 6,
   "metadata": {},
   "outputs": [],
   "source": [
    "#group of pitch related variables \n",
    "acoustic_group_pitch_label='pitch'\n",
    "acoustic_group_pitch=['voiceprob_sma',\n",
    "       'f0_sma', 'f0env_sma',\n",
    "      'f0final_sma', 'F0semitoneFrom27_5Hz_sma3nz',\n",
    "      'f1frequency_sma3nz',\n",
    "       'f1bandwidth_sma3nz', 'f1amplitudelogrelf0_sma3nz',\n",
    "       'f2frequency_sma3nz', 'f2amplitudelogrelf0_sma3nz',\n",
    "       'f3frequency_sma3nz', 'f3amplitudelogrelf0_sma3nz']"
   ]
  },
  {
   "cell_type": "code",
   "execution_count": 7,
   "metadata": {},
   "outputs": [],
   "source": [
    "\n",
    "#group of spectral related variables \n",
    "acoustic_group_spectral_label='spectral'\n",
    "acoustic_group_spectral=['pcm_fftMag_mfcc_0_',\n",
    "                         #'pcm_fftMag_mfcc_1_',\n",
    "                         #'pcm_fftMag_mfcc_2_',\n",
    "                         #'pcm_fftMag_mfcc_3_',\n",
    "                         #'pcm_fftMag_mfcc_4_',\n",
    "                         #'pcm_fftMag_mfcc_5_',\n",
    "                         #'pcm_fftMag_mfcc_6_',\n",
    "                         #'pcm_fftMag_mfcc_7_',\n",
    "                         #'pcm_fftMag_mfcc_8_',\n",
    "                         #'pcm_fftMag_mfcc_9_',\n",
    "                         #'pcm_fftMag_mfcc_10_',\n",
    "                         #'pcm_fftMag_mfcc_11_',\n",
    "                         #'pcm_fftMag_mfcc_12_',\n",
    "                         #'pcm_fftMag_spectralRollOff25_0_sma',\n",
    "                         #'pcm_fftMag_spectralRollOff50_0_sma',\n",
    "                         #'pcm_fftMag_spectralRollOff75_0_sma',\n",
    "                         #'pcm_fftMag_spectralRollOff90_0_sma',\n",
    "                         'pcm_fftmag_spectralflux_sma',\n",
    "                         'pcm_fftmag_spectralcentroid_sma',\n",
    "                         #'pcm_fftmag_spectralmaxpos_sma',\n",
    "                         #'pcm_fftmag_spectralminpos_sma',\n",
    "                         'pcm_fftmag_spectralentropy_sma_compare',\n",
    "                         'pcm_fftmag_spectralvariance_sma_compare',\n",
    "                         'pcm_fftmag_spectralskewness_sma_compare',\n",
    "                         'pcm_fftmag_spectralkurtosis_sma_compare',\n",
    "                         'pcm_fftmag_psysharpness_sma_compare',\n",
    "                         'pcm_fftmag_spectralharmonicity_sma_compare'       \n",
    "                         #'alpharatio_sma3',\n",
    "                         #'hammarbergindex_sma3',\n",
    "                         #'slope0-500_sma3',\n",
    "                         #'slope500-1500_sma3', \n",
    "                         #'logRelF0-H1-H2_sma3nz',\n",
    "                         #'logRelF0-H1-A3_sma3nz'\n",
    "                         ]"
   ]
  },
  {
   "cell_type": "code",
   "execution_count": 8,
   "metadata": {},
   "outputs": [],
   "source": [
    "\n",
    "#group of quality related variables \n",
    "acoustic_group_quality_label='quality'\n",
    "acoustic_group_quality=['voicingfinalunclipped_sma',\n",
    "                        'jitterlocal_sma',\n",
    "                        'jitterddp_sma',\n",
    "                        'shimmerlocal_sma',\n",
    "                        'loghnr_sma']"
   ]
  },
  {
   "cell_type": "code",
   "execution_count": 9,
   "metadata": {},
   "outputs": [],
   "source": [
    "acoustic_group_labels = {acoustic_group_energy_label : acoustic_group_energy,\n",
    "                             acoustic_group_pitch_label : acoustic_group_pitch ,\n",
    "                             acoustic_group_spectral_label : acoustic_group_spectral,\n",
    "                             acoustic_group_quality_label: acoustic_group_quality}"
   ]
  },
  {
   "cell_type": "code",
   "execution_count": 10,
   "metadata": {},
   "outputs": [],
   "source": [
    "data_classes_base = {'0': shap_values_0_class_base ,\n",
    "                '1': shap_values_0_class_base ,\n",
    "                '2': shap_values_0_class_base ,\n",
    "                '3': shap_values_0_class_base }"
   ]
  },
  {
   "cell_type": "markdown",
   "metadata": {},
   "source": [
    "## BASELINE Model"
   ]
  },
  {
   "cell_type": "markdown",
   "metadata": {},
   "source": [
    "### INDIVIDUAL MODEL FOR CLASSES"
   ]
  },
  {
   "cell_type": "code",
   "execution_count": 11,
   "metadata": {},
   "outputs": [
    {
     "name": "stderr",
     "output_type": "stream",
     "text": [
      "invalid value encountered in double_scalars\n"
     ]
    }
   ],
   "source": [
    "tab_ind = []\n",
    "\n",
    "for class_, data_class in data_classes_base.items():\n",
    "        df = lsf.ls_ind_params(data = data_class , shapdata = data_shap_base, classtoprint = class_)\n",
    "        df[\"class\"] = class_\n",
    "        tab_ind.append(df)  \n",
    "individual_classes_base = pd.concat(tab_ind)   \n",
    "\n",
    "filename_individual_classes_base = protoformsStreamPath + \"baseline_PROTOFORM_individual_classes.csv\"\n",
    "individual_classes_base.to_csv(filename_individual_classes_base)\n"
   ]
  },
  {
   "cell_type": "markdown",
   "metadata": {},
   "source": [
    "### GROUP MODEL FOR CLASSES"
   ]
  },
  {
   "cell_type": "code",
   "execution_count": 12,
   "metadata": {},
   "outputs": [
    {
     "name": "stdout",
     "output_type": "stream",
     "text": [
      "Label:\n",
      "energy\n",
      "Class:\n",
      "0\n",
      "Label:\n",
      "pitch\n",
      "Class:\n",
      "0\n",
      "Label:\n",
      "spectral\n",
      "Class:\n",
      "0\n",
      "Label:\n",
      "quality\n",
      "Class:\n",
      "0\n",
      "Label:\n",
      "energy\n",
      "Class:\n",
      "1\n",
      "Label:\n",
      "pitch\n",
      "Class:\n",
      "1\n",
      "Label:\n",
      "spectral\n",
      "Class:\n",
      "1\n",
      "Label:\n",
      "quality\n",
      "Class:\n",
      "1\n",
      "Label:\n",
      "energy\n",
      "Class:\n",
      "2\n",
      "Label:\n",
      "pitch\n",
      "Class:\n",
      "2\n",
      "Label:\n",
      "spectral\n",
      "Class:\n",
      "2\n",
      "Label:\n",
      "quality\n",
      "Class:\n",
      "2\n",
      "Label:\n",
      "energy\n",
      "Class:\n",
      "3\n",
      "Label:\n",
      "pitch\n",
      "Class:\n",
      "3\n",
      "Label:\n",
      "spectral\n",
      "Class:\n",
      "3\n",
      "Label:\n",
      "quality\n",
      "Class:\n",
      "3\n"
     ]
    }
   ],
   "source": [
    "tab_group = []\n",
    "\n",
    "for class_, data_class in data_classes_base.items():\n",
    "    for label, feature in acoustic_group_labels.items():\n",
    "        print(\"Label:\")\n",
    "        print(label)\n",
    "        print(\"Class:\")\n",
    "        print(class_)\n",
    "        df = lsf.ls_group_params(acoustic_group = feature, acoustic_group_label = label,\n",
    "                      data = data_class , shapdata = data_shap_oh, classtoprint = class_, model = \"base\")\n",
    "        df[\"class\"] = class_\n",
    "        df[\"label\"] = label  \n",
    "        tab_group.append(df)  \n",
    "base_group_classes = pd.concat(tab_group)    \n",
    "\n",
    "filename_base_group_classes = protoformsStreamPath + \"base_PROTOFORM_group_classes.csv\"\n",
    "base_group_classes.to_csv(filename_base_group_classes) "
   ]
  },
  {
   "cell_type": "markdown",
   "metadata": {},
   "source": [
    "## ONE HEAD Model"
   ]
  },
  {
   "cell_type": "code",
   "execution_count": 13,
   "metadata": {},
   "outputs": [],
   "source": [
    "data_classes = {'0': shap_values_0_class_oh ,\n",
    "                '1': shap_values_1_class_oh ,\n",
    "                '2': shap_values_2_class_oh ,\n",
    "                '3': shap_values_3_class_oh }"
   ]
  },
  {
   "cell_type": "code",
   "execution_count": 14,
   "metadata": {},
   "outputs": [],
   "source": [
    "data_symptoms = {'0': shap_values_0_symptom_oh , #anxiety\n",
    "                '1': shap_values_1_symptom_oh , #'decreased_activity'\n",
    "                '2': shap_values_2_symptom_oh , \n",
    "                '3': shap_values_3_symptom_oh , \n",
    "                '4': shap_values_4_symptom_oh , #elevated activity\n",
    "                '5': shap_values_5_symptom_oh , \n",
    "                '6': shap_values_6_symptom_oh , \n",
    "                '7': shap_values_7_symptom_oh , \n",
    "                '8': shap_values_8_symptom_oh , \n",
    "                '9': shap_values_9_symptom_oh\n",
    "                } \n"
   ]
  },
  {
   "cell_type": "markdown",
   "metadata": {},
   "source": [
    "### individual model for classes"
   ]
  },
  {
   "cell_type": "code",
   "execution_count": 15,
   "metadata": {},
   "outputs": [
    {
     "name": "stderr",
     "output_type": "stream",
     "text": [
      "invalid value encountered in double_scalars\n"
     ]
    }
   ],
   "source": [
    "tab_ind = []\n",
    "\n",
    "for class_, data_class in data_classes.items():\n",
    "        df = lsf.ls_ind_params(data = data_class , shapdata = data_shap_oh, classtoprint = class_)\n",
    "        df[\"class\"] = class_\n",
    "        tab_ind.append(df)  \n",
    "individual_classes = pd.concat(tab_ind)   \n",
    "\n",
    "filename_ind_class = protoformsStreamPath + \"oh_PROTOFORM_individual_classes.csv\"\n",
    "individual_classes.to_csv(filename_ind_class)"
   ]
  },
  {
   "cell_type": "markdown",
   "metadata": {},
   "source": [
    "### group model for classes"
   ]
  },
  {
   "cell_type": "code",
   "execution_count": 16,
   "metadata": {},
   "outputs": [
    {
     "name": "stdout",
     "output_type": "stream",
     "text": [
      "Label:\n",
      "energy\n",
      "Class:\n",
      "0\n",
      "Label:\n",
      "pitch\n",
      "Class:\n",
      "0\n",
      "Label:\n",
      "spectral\n",
      "Class:\n",
      "0\n",
      "Label:\n",
      "quality\n",
      "Class:\n",
      "0\n",
      "Label:\n",
      "energy\n",
      "Class:\n",
      "1\n",
      "Label:\n",
      "pitch\n",
      "Class:\n",
      "1\n",
      "Label:\n",
      "spectral\n",
      "Class:\n",
      "1\n",
      "Label:\n",
      "quality\n",
      "Class:\n",
      "1\n",
      "Label:\n",
      "energy\n",
      "Class:\n",
      "2\n",
      "Label:\n",
      "pitch\n",
      "Class:\n",
      "2\n",
      "Label:\n",
      "spectral\n",
      "Class:\n",
      "2\n",
      "Label:\n",
      "quality\n",
      "Class:\n",
      "2\n",
      "Label:\n",
      "energy\n",
      "Class:\n",
      "3\n",
      "Label:\n",
      "pitch\n",
      "Class:\n",
      "3\n",
      "Label:\n",
      "spectral\n",
      "Class:\n",
      "3\n",
      "Label:\n",
      "quality\n",
      "Class:\n",
      "3\n"
     ]
    }
   ],
   "source": [
    "tab_group = []\n",
    "\n",
    "for class_, data_class in data_classes.items():\n",
    "    for label, feature in acoustic_group_labels.items():\n",
    "        print(\"Label:\")\n",
    "        print(label)\n",
    "        print(\"Class:\")\n",
    "        print(class_)\n",
    "        df = lsf.ls_group_params(acoustic_group = feature, acoustic_group_label = label,\n",
    "                      data = data_class , shapdata = data_shap_oh, classtoprint = class_, model = \"oh\")\n",
    "        df[\"class\"] = class_\n",
    "        df[\"label\"] = label  \n",
    "        tab_group.append(df)  \n",
    "group_classes = pd.concat(tab_group)    \n",
    "\n",
    "filename_group_classes = protoformsStreamPath + \"oh_PROTOFORM_group_classes.csv\"\n",
    "group_classes.to_csv(filename_group_classes) "
   ]
  },
  {
   "cell_type": "code",
   "execution_count": 17,
   "metadata": {},
   "outputs": [
    {
     "data": {
      "text/html": [
       "<div>\n",
       "<style scoped>\n",
       "    .dataframe tbody tr th:only-of-type {\n",
       "        vertical-align: middle;\n",
       "    }\n",
       "\n",
       "    .dataframe tbody tr th {\n",
       "        vertical-align: top;\n",
       "    }\n",
       "\n",
       "    .dataframe thead th {\n",
       "        text-align: right;\n",
       "    }\n",
       "</style>\n",
       "<table border=\"1\" class=\"dataframe\">\n",
       "  <thead>\n",
       "    <tr style=\"text-align: right;\">\n",
       "      <th></th>\n",
       "      <th>Id</th>\n",
       "      <th>protoform</th>\n",
       "      <th>DoT</th>\n",
       "      <th>DoS</th>\n",
       "      <th>DoF</th>\n",
       "      <th>class</th>\n",
       "      <th>label</th>\n",
       "    </tr>\n",
       "  </thead>\n",
       "  <tbody>\n",
       "    <tr>\n",
       "      <th>0</th>\n",
       "      <td>0.0</td>\n",
       "      <td>Among records that contribute against predicti...</td>\n",
       "      <td>0.000000</td>\n",
       "      <td>0.601333</td>\n",
       "      <td>0.713199</td>\n",
       "      <td>0</td>\n",
       "      <td>energy</td>\n",
       "    </tr>\n",
       "    <tr>\n",
       "      <th>1</th>\n",
       "      <td>1.0</td>\n",
       "      <td>Among records that contribute against predicti...</td>\n",
       "      <td>0.000000</td>\n",
       "      <td>0.215429</td>\n",
       "      <td>0.713199</td>\n",
       "      <td>0</td>\n",
       "      <td>energy</td>\n",
       "    </tr>\n",
       "    <tr>\n",
       "      <th>2</th>\n",
       "      <td>2.0</td>\n",
       "      <td>Among records that contribute against predicti...</td>\n",
       "      <td>0.000000</td>\n",
       "      <td>0.596476</td>\n",
       "      <td>0.713199</td>\n",
       "      <td>0</td>\n",
       "      <td>energy</td>\n",
       "    </tr>\n",
       "    <tr>\n",
       "      <th>3</th>\n",
       "      <td>3.0</td>\n",
       "      <td>Among records that contribute around zero to p...</td>\n",
       "      <td>0.000000</td>\n",
       "      <td>0.191333</td>\n",
       "      <td>0.059406</td>\n",
       "      <td>0</td>\n",
       "      <td>energy</td>\n",
       "    </tr>\n",
       "    <tr>\n",
       "      <th>4</th>\n",
       "      <td>4.0</td>\n",
       "      <td>Among records that contribute around zero to p...</td>\n",
       "      <td>0.000000</td>\n",
       "      <td>0.062476</td>\n",
       "      <td>0.059406</td>\n",
       "      <td>0</td>\n",
       "      <td>energy</td>\n",
       "    </tr>\n",
       "    <tr>\n",
       "      <th>...</th>\n",
       "      <td>...</td>\n",
       "      <td>...</td>\n",
       "      <td>...</td>\n",
       "      <td>...</td>\n",
       "      <td>...</td>\n",
       "      <td>...</td>\n",
       "      <td>...</td>\n",
       "    </tr>\n",
       "    <tr>\n",
       "      <th>4</th>\n",
       "      <td>4.0</td>\n",
       "      <td>Among records that contribute around zero to p...</td>\n",
       "      <td>0.000000</td>\n",
       "      <td>0.006000</td>\n",
       "      <td>0.013188</td>\n",
       "      <td>3</td>\n",
       "      <td>quality</td>\n",
       "    </tr>\n",
       "    <tr>\n",
       "      <th>5</th>\n",
       "      <td>5.0</td>\n",
       "      <td>Among records that contribute around zero to p...</td>\n",
       "      <td>1.000000</td>\n",
       "      <td>0.022000</td>\n",
       "      <td>0.013188</td>\n",
       "      <td>3</td>\n",
       "      <td>quality</td>\n",
       "    </tr>\n",
       "    <tr>\n",
       "      <th>6</th>\n",
       "      <td>6.0</td>\n",
       "      <td>Among records that contribute positively to pr...</td>\n",
       "      <td>0.000000</td>\n",
       "      <td>0.121333</td>\n",
       "      <td>0.212947</td>\n",
       "      <td>3</td>\n",
       "      <td>quality</td>\n",
       "    </tr>\n",
       "    <tr>\n",
       "      <th>7</th>\n",
       "      <td>7.0</td>\n",
       "      <td>Among records that contribute positively to pr...</td>\n",
       "      <td>0.000000</td>\n",
       "      <td>0.092000</td>\n",
       "      <td>0.212947</td>\n",
       "      <td>3</td>\n",
       "      <td>quality</td>\n",
       "    </tr>\n",
       "    <tr>\n",
       "      <th>8</th>\n",
       "      <td>8.0</td>\n",
       "      <td>Among records that contribute positively to pr...</td>\n",
       "      <td>0.401447</td>\n",
       "      <td>0.189333</td>\n",
       "      <td>0.212947</td>\n",
       "      <td>3</td>\n",
       "      <td>quality</td>\n",
       "    </tr>\n",
       "  </tbody>\n",
       "</table>\n",
       "<p>144 rows × 7 columns</p>\n",
       "</div>"
      ],
      "text/plain": [
       "     Id                                          protoform       DoT  \\\n",
       "0   0.0  Among records that contribute against predicti...  0.000000   \n",
       "1   1.0  Among records that contribute against predicti...  0.000000   \n",
       "2   2.0  Among records that contribute against predicti...  0.000000   \n",
       "3   3.0  Among records that contribute around zero to p...  0.000000   \n",
       "4   4.0  Among records that contribute around zero to p...  0.000000   \n",
       "..  ...                                                ...       ...   \n",
       "4   4.0  Among records that contribute around zero to p...  0.000000   \n",
       "5   5.0  Among records that contribute around zero to p...  1.000000   \n",
       "6   6.0  Among records that contribute positively to pr...  0.000000   \n",
       "7   7.0  Among records that contribute positively to pr...  0.000000   \n",
       "8   8.0  Among records that contribute positively to pr...  0.401447   \n",
       "\n",
       "         DoS       DoF class    label  \n",
       "0   0.601333  0.713199     0   energy  \n",
       "1   0.215429  0.713199     0   energy  \n",
       "2   0.596476  0.713199     0   energy  \n",
       "3   0.191333  0.059406     0   energy  \n",
       "4   0.062476  0.059406     0   energy  \n",
       "..       ...       ...   ...      ...  \n",
       "4   0.006000  0.013188     3  quality  \n",
       "5   0.022000  0.013188     3  quality  \n",
       "6   0.121333  0.212947     3  quality  \n",
       "7   0.092000  0.212947     3  quality  \n",
       "8   0.189333  0.212947     3  quality  \n",
       "\n",
       "[144 rows x 7 columns]"
      ]
     },
     "execution_count": 17,
     "metadata": {},
     "output_type": "execute_result"
    }
   ],
   "source": [
    "group_classes"
   ]
  },
  {
   "cell_type": "markdown",
   "metadata": {},
   "source": [
    "### individual model for symptoms"
   ]
  },
  {
   "cell_type": "code",
   "execution_count": 18,
   "metadata": {},
   "outputs": [
    {
     "name": "stderr",
     "output_type": "stream",
     "text": [
      "invalid value encountered in double_scalars\n"
     ]
    }
   ],
   "source": [
    "\n",
    "tab_ind = []\n",
    "\n",
    "for symptom, data_symptom in data_symptoms.items():\n",
    "        df = lsf.ls_ind_params(data = data_symptom , shapdata = data_shap_oh, classtoprint = symptom)\n",
    "        df[\"symptom\"] = symptom\n",
    "        tab_ind.append(df)  \n",
    "individual_symptoms = pd.concat(tab_ind)   \n",
    "\n",
    "individual_symptoms.to_csv(\"oh_PROTOFORM_individual_symptoms.csv\")"
   ]
  },
  {
   "cell_type": "markdown",
   "metadata": {},
   "source": [
    "### grouped model for symptoms"
   ]
  },
  {
   "cell_type": "code",
   "execution_count": 19,
   "metadata": {},
   "outputs": [
    {
     "name": "stdout",
     "output_type": "stream",
     "text": [
      "0\n",
      "energy\n",
      "pitch\n",
      "spectral\n",
      "quality\n",
      "1\n",
      "energy\n",
      "pitch\n",
      "spectral\n",
      "quality\n",
      "2\n",
      "energy\n",
      "pitch\n",
      "spectral\n",
      "quality\n",
      "3\n",
      "energy\n",
      "pitch\n",
      "spectral\n",
      "quality\n",
      "4\n",
      "energy\n",
      "pitch\n",
      "spectral\n",
      "quality\n",
      "5\n",
      "energy\n",
      "pitch\n",
      "spectral\n",
      "quality\n",
      "6\n",
      "energy\n",
      "pitch\n",
      "spectral\n",
      "quality\n",
      "7\n",
      "energy\n",
      "pitch\n",
      "spectral\n",
      "quality\n",
      "8\n",
      "energy\n",
      "pitch\n",
      "spectral\n",
      "quality\n",
      "9\n",
      "energy\n",
      "pitch\n",
      "spectral\n",
      "quality\n"
     ]
    }
   ],
   "source": [
    "\n",
    "tab_group = []\n",
    "\n",
    "for symptom, data_symptom in data_symptoms.items():\n",
    "    print(symptom)\n",
    "    for label, feature in acoustic_group_labels.items():\n",
    "        print(label)\n",
    "        df = lsf.ls_group_params(acoustic_group = feature, acoustic_group_label = label,\n",
    "                      data = data_symptom , shapdata = data_shap_oh, classtoprint = symptom, model = \"oh\")\n",
    "        df[\"symptom\"] = symptom\n",
    "        df[\"label\"] = label  \n",
    "        tab_group.append(df)  \n",
    "group_symptoms = pd.concat(tab_group)    \n",
    "\n",
    "filename_group_symptoms = protoformsStreamPath + \"oh_PROTOFORM_group_symptoms.csv\"\n",
    "group_symptoms.to_csv(filename_group_symptoms) "
   ]
  },
  {
   "cell_type": "markdown",
   "metadata": {},
   "source": [
    "# SUMMARY"
   ]
  },
  {
   "cell_type": "code",
   "execution_count": 22,
   "metadata": {},
   "outputs": [
    {
     "data": {
      "text/plain": [
       "0    0.713199\n",
       "1    0.713199\n",
       "2    0.713199\n",
       "3    0.059406\n",
       "4    0.059406\n",
       "5    0.059406\n",
       "6    0.224062\n",
       "7    0.224062\n",
       "8    0.224062\n",
       "0    0.481612\n",
       "1    0.481612\n",
       "2    0.481612\n",
       "3    0.031408\n",
       "4    0.031408\n",
       "5    0.031408\n",
       "6    0.483646\n",
       "7    0.483646\n",
       "8    0.483646\n",
       "0    0.559180\n",
       "1    0.559180\n",
       "2    0.559180\n",
       "3    0.050400\n",
       "4    0.050400\n",
       "5    0.050400\n",
       "6    0.387087\n",
       "7    0.387087\n",
       "8    0.387087\n",
       "0    0.770532\n",
       "1    0.770532\n",
       "2    0.770532\n",
       "3    0.013188\n",
       "4    0.013188\n",
       "5    0.013188\n",
       "6    0.212947\n",
       "7    0.212947\n",
       "8    0.212947\n",
       "Name: DoF, dtype: float64"
      ]
     },
     "execution_count": 22,
     "metadata": {},
     "output_type": "execute_result"
    }
   ],
   "source": [
    "base_group_classes.loc[base_group_classes['class'] == cv, d]\n",
    "group_classes.loc[group_classes['class'] == cv, d]"
   ]
  },
  {
   "cell_type": "code",
   "execution_count": 25,
   "metadata": {},
   "outputs": [
    {
     "name": "stderr",
     "output_type": "stream",
     "text": [
      "Sample size too small for normal approximation.\n"
     ]
    }
   ],
   "source": [
    "definitions = ['DoT','DoS' ]\n",
    "classes_values = [\"0\",\"1\",\"2\",\"3\"]\n",
    "\n",
    "test_results = []\n",
    "i=0\n",
    "for d in definitions :\n",
    "    for cv in classes_values:\n",
    "\n",
    "        stat = stats.wilcoxon(base_group_classes.loc[base_group_classes['class'] == cv, d],\n",
    "                                           group_classes.loc[group_classes['class'] == cv, d])\n",
    "        stat_df = pd.DataFrame(data={\"definition\" : d,\n",
    "                             \"W_statistics\" : stat[0],\n",
    "                             \"p_value\" : stat[1],\n",
    "                             \"Class\" : cv}, index=[i])\n",
    "        test_results.append(stat_df) \n",
    "\n"
   ]
  }
 ],
 "metadata": {
  "kernelspec": {
   "display_name": "Python 3.9.7 ('base')",
   "language": "python",
   "name": "python3"
  },
  "language_info": {
   "codemirror_mode": {
    "name": "ipython",
    "version": 3
   },
   "file_extension": ".py",
   "mimetype": "text/x-python",
   "name": "python",
   "nbconvert_exporter": "python",
   "pygments_lexer": "ipython3",
   "version": "3.9.7"
  },
  "orig_nbformat": 4,
  "vscode": {
   "interpreter": {
    "hash": "07bc74f91d1f8eb169c55d10374fd0fd42e378e12fcc798a378379f252fa0102"
   }
  }
 },
 "nbformat": 4,
 "nbformat_minor": 2
}
